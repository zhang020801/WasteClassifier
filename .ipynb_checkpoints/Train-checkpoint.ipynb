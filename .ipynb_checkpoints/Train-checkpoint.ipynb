{
 "cells": [
  {
   "cell_type": "code",
   "execution_count": 1,
   "metadata": {},
   "outputs": [
    {
     "name": "stdout",
     "output_type": "stream",
     "text": [
      "Found 595 images belonging to 5 classes.\n",
      "Found 424 images belonging to 5 classes.\n",
      "Model: \"sequential\"\n",
      "_________________________________________________________________\n",
      "Layer (type)                 Output Shape              Param #   \n",
      "=================================================================\n",
      "keras_layer (KerasLayer)     (None, 1001)              3540265   \n",
      "_________________________________________________________________\n",
      "dense (Dense)                (None, 5)                 5010      \n",
      "=================================================================\n",
      "Total params: 3,545,275\n",
      "Trainable params: 5,010\n",
      "Non-trainable params: 3,540,265\n",
      "_________________________________________________________________\n"
     ]
    },
    {
     "name": "stderr",
     "output_type": "stream",
     "text": [
      "D:\\Anaconda3\\lib\\site-packages\\tensorflow\\python\\keras\\engine\\training.py:1844: UserWarning: `Model.fit_generator` is deprecated and will be removed in a future version. Please use `Model.fit`, which supports generators.\n",
      "  warnings.warn('`Model.fit_generator` is deprecated and '\n"
     ]
    },
    {
     "name": "stdout",
     "output_type": "stream",
     "text": [
      "Epoch 1/7\n",
      "19/19 [==============================] - 23s 1s/step - loss: 1.8665 - accuracy: 0.4007 - val_loss: 0.4625 - val_accuracy: 0.8302\n",
      "Epoch 2/7\n",
      "19/19 [==============================] - 20s 1s/step - loss: 0.4226 - accuracy: 0.8280 - val_loss: 0.1500 - val_accuracy: 0.9575\n",
      "Epoch 3/7\n",
      "19/19 [==============================] - 19s 1s/step - loss: 0.1649 - accuracy: 0.9348 - val_loss: 0.0857 - val_accuracy: 0.9906\n",
      "Epoch 4/7\n",
      "19/19 [==============================] - 19s 1s/step - loss: 0.1059 - accuracy: 0.9845 - val_loss: 0.0608 - val_accuracy: 0.9976\n",
      "Epoch 5/7\n",
      "19/19 [==============================] - 20s 1s/step - loss: 0.0751 - accuracy: 0.9944 - val_loss: 0.0452 - val_accuracy: 0.9976\n",
      "Epoch 6/7\n",
      "19/19 [==============================] - 20s 1s/step - loss: 0.0677 - accuracy: 0.9879 - val_loss: 0.0346 - val_accuracy: 1.0000\n",
      "Epoch 7/7\n",
      "19/19 [==============================] - 20s 1s/step - loss: 0.0476 - accuracy: 0.9980 - val_loss: 0.0281 - val_accuracy: 1.0000\n",
      "INFO:tensorflow:Assets written to: ./tmp/assets\n"
     ]
    }
   ],
   "source": [
    "#加载训练所需要的库\n",
    "import matplotlib.pylab as plt\n",
    "import tensorflow as tf\n",
    "import tensorflow_hub as hub\n",
    "from tensorflow.keras import layers\n",
    "import numpy as np\n",
    "from PIL import Image\n",
    "from keras.preprocessing.image import ImageDataGenerator  #keras模型对图片处理时调用的一个库\n",
    "from keras.preprocessing import image\n",
    "from tensorflow import keras    #tensorflow下的keras框架\n",
    "\n",
    "import time\n",
    "\n",
    "#添加模型mobel\n",
    "t = time.time()\n",
    "\n",
    "classifier_url ='./model'     #导入网络模型\n",
    "\n",
    "#定义训练数据与验证数据，大小为224*224\n",
    "TRAINING_dir = './dataset/train/'                 #训练集相对路径\n",
    "VALIDATION_dir = './dataset/test/'                #测试集相对路径\n",
    "# rescale是重缩放因子，默认为None.如果是None或0，不进行缩放，否则将数据乘以所提供的值\n",
    "training_datagen = ImageDataGenerator(rescale = 1./255)\n",
    "validation_datagen = ImageDataGenerator(rescale = 1./255)\n",
    "\n",
    "\n",
    "#训练集\n",
    "train_generator = training_datagen.flow_from_directory(\n",
    "    TRAINING_dir,\n",
    "    target_size = (224,224),\n",
    "    class_mode =  'categorical'\n",
    ")\n",
    "\n",
    "#验证集\n",
    "validation_generator = validation_datagen.flow_from_directory(\n",
    "    VALIDATION_dir,\n",
    "    target_size = (224,224),\n",
    "    class_mode =  'categorical'\n",
    ")\n",
    "\n",
    "IMAGE_SHAPE = (224, 224)\n",
    "\n",
    "#feature_extractor_url = \"https://tfhub.dev/google/tf2-preview/mobilenet_v2/feature_vector/2\"\n",
    "#载入训练模型\n",
    "feature_extractor_layer = hub.KerasLayer(classifier_url,\n",
    "                                         input_shape=(224,224,3))\n",
    "#定义训练模型\n",
    "model = tf.keras.Sequential([\n",
    "  feature_extractor_layer,\n",
    "  layers.Dense(train_generator.num_classes,activation='softmax')\n",
    "])\n",
    "#打印模型参数\n",
    "model.summary()\n",
    "#设置损失函数，学习率\n",
    "model.compile(loss = 'categorical_crossentropy',optimizer = 'adam',metrics = ['accuracy'])\n",
    "\n",
    "reduce_lr = keras.callbacks.ReduceLROnPlateau(monitor='val_loss', patience=2, mode='auto')\n",
    "#模型拟合\n",
    "history = model.fit_generator(train_generator,epochs = 7, validation_data = validation_generator , verbose=1, callbacks=[reduce_lr])\n",
    "\n",
    "#模型保存\n",
    "export_path = \"./tmp/\".format(int(t))\n",
    "model.save(export_path, save_format='tf')\n",
    "\n",
    "reloaded = tf.keras.models.load_model(export_path)\n",
    "\n"
   ]
  },
  {
   "cell_type": "code",
   "execution_count": null,
   "metadata": {},
   "outputs": [],
   "source": []
  }
 ],
 "metadata": {
  "kernelspec": {
   "display_name": "Python 3",
   "language": "python",
   "name": "python3"
  },
  "language_info": {
   "codemirror_mode": {
    "name": "ipython",
    "version": 3
   },
   "file_extension": ".py",
   "mimetype": "text/x-python",
   "name": "python",
   "nbconvert_exporter": "python",
   "pygments_lexer": "ipython3",
   "version": "3.7.0"
  }
 },
 "nbformat": 4,
 "nbformat_minor": 2
}
